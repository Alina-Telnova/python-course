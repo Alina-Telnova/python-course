{
  "nbformat": 4,
  "nbformat_minor": 0,
  "metadata": {
    "colab": {
      "provenance": [],
      "include_colab_link": true
    },
    "kernelspec": {
      "name": "python3",
      "display_name": "Python 3"
    },
    "language_info": {
      "name": "python"
    }
  },
  "cells": [
    {
      "cell_type": "markdown",
      "metadata": {
        "id": "view-in-github",
        "colab_type": "text"
      },
      "source": [
        "<a href=\"https://colab.research.google.com/github/Alina-Telnova/python-course/blob/master/4_if_ipynb.ipynb\" target=\"_parent\"><img src=\"https://colab.research.google.com/assets/colab-badge.svg\" alt=\"Open In Colab\"/></a>"
      ]
    },
    {
      "cell_type": "markdown",
      "source": [
        "# Блок 1: задачи на условия"
      ],
      "metadata": {
        "id": "xjBo_ebS9BpG"
      }
    },
    {
      "cell_type": "markdown",
      "source": [
        "## Задание 1\n",
        "\n",
        "### Напишите программу для проверки пароля пользователя\n",
        "\n",
        "**Образец работы программы:**\n",
        "\n",
        "```\n",
        "Введите пароль: 123\n",
        "Пароль неверный\n",
        "Введите пароль: 321\n",
        "Пароль верный\n",
        "```\n",
        "\n",
        "**Алгоритм:**\n",
        "\n",
        "1. Создайте переменную, в которой хранится верный пароль\n",
        "2. Запросите у пользователя пароль\n",
        "3. Если пароль верный, выведите \"Пароль верный\"\n",
        "4. Иначе, выведите \"Пароль неверный\""
      ],
      "metadata": {
        "id": "f52IBxo_3QMO"
      }
    },
    {
      "cell_type": "code",
      "execution_count": 18,
      "metadata": {
        "id": "XDk2pBii3Nvo",
        "colab": {
          "base_uri": "https://localhost:8080/"
        },
        "collapsed": true,
        "outputId": "880f79d4-65d7-4fc7-dad2-41e9a1fddd59"
      },
      "outputs": [
        {
          "output_type": "stream",
          "name": "stdout",
          "text": [
            "Введите пароль: 321\n",
            "Пароль верный\n"
          ]
        }
      ],
      "source": [
        "right_password = 321\n",
        "user_password = int(input('Введите пароль: '))\n",
        "if right_password == user_password:\n",
        "  print('Пароль верный')\n",
        "else:\n",
        "  print('Пароль неверный')\n",
        "\n"
      ]
    },
    {
      "cell_type": "markdown",
      "source": [
        "## Задание 2\n",
        "\n",
        "### Напишите программу для проверки возраста пользователя\n",
        "\n",
        "**Образец работы программы:**\n",
        "\n",
        "```\n",
        "Введите возраст: 12\n",
        "Доступ запрещен\n",
        "Введите пароль: 21\n",
        "Доступ разрешен\n",
        "```\n",
        "Если возраст больше или равен 18, программа выводит \"Доступ разрешен\""
      ],
      "metadata": {
        "id": "JUJsTkMH4Gbi"
      }
    },
    {
      "cell_type": "code",
      "source": [
        "age = int(input('Введите возраст: '))\n",
        "if age >=18:\n",
        "  print('Доступ разрешен')\n",
        "else:\n",
        "  print('Доступ запрещен')"
      ],
      "metadata": {
        "id": "aUr56W8b3-gg",
        "colab": {
          "base_uri": "https://localhost:8080/"
        },
        "outputId": "e8406571-bf64-4db8-c99b-90d4ddf7839a"
      },
      "execution_count": 21,
      "outputs": [
        {
          "output_type": "stream",
          "name": "stdout",
          "text": [
            "Введите возраст: 18\n",
            "Доступ разрешен\n"
          ]
        }
      ]
    },
    {
      "cell_type": "markdown",
      "source": [
        "## Задание 3\n",
        "\n",
        "### Напишите программу для приветствия пользователя\n",
        "\n",
        "**Образец работы программы:**\n",
        "\n",
        "```\n",
        "Введите время: 12:30\n",
        "Добрый день!\n",
        "Введите время: 10:30\n",
        "Доброе утро!\n",
        "Введите время: 21:30\n",
        "Добрый вечер!\n",
        "Введите время: 01:30\n",
        "Доброй ночи!\n",
        "```\n",
        "**Алгоритм:**\n",
        "\n",
        "1. Программа принимает на вход строку\n",
        "2. Делим строку по знаку `:`, создаем новую переменную с результатом разделения\n",
        "3. Извлекаем первый элемент из созданной переменной\n",
        "3. Использует логические выражения, чтобы вывести одно из четырех приветствий"
      ],
      "metadata": {
        "id": "ty-_ARJv4hjz"
      }
    },
    {
      "cell_type": "code",
      "source": [
        "time = input('Введите время: ')\n",
        "dividedtime = time.split(':')\n",
        "if 4 <= int(dividedtime[0]) <= 11:\n",
        "  print('Доброе утро!')\n",
        "elif 12 <= int(dividedtime[0]) <= 16:\n",
        "  print('Добрый день!')\n",
        "elif 17 <= int(dividedtime[0]) <= 22:\n",
        "  print('Добрый вечер!')\n",
        "else:\n",
        "  print('Доброй ночи!')"
      ],
      "metadata": {
        "id": "076IfTcK42zK",
        "colab": {
          "base_uri": "https://localhost:8080/"
        },
        "outputId": "7f5f9d62-aa05-4721-baef-f9755b0388ea"
      },
      "execution_count": 29,
      "outputs": [
        {
          "output_type": "stream",
          "name": "stdout",
          "text": [
            "Введите время: 4:30\n",
            "Доброе утро!\n"
          ]
        }
      ]
    },
    {
      "cell_type": "markdown",
      "source": [
        "## Задание 4\n",
        "\n",
        "### Целочисленный калькулятор\n",
        "\n",
        "**Образец работы программы:**\n",
        "\n",
        "```\n",
        "Введите выражение: 2 + 2\n",
        "4\n",
        "Введите выражение: 2 - 2\n",
        "0\n",
        "Введите выражение: 2 : 2\n",
        "1\n",
        "Введите время: 2 * 2\n",
        "4\n",
        "```\n",
        "**Алгоритм:**\n",
        "\n",
        "1. Программа принимает на вход строку\n",
        "2. Делим строку, создаем список из 3-х элементов\n",
        "3. Проверяем, что записано во втором элементе (помним, что нумерация начинается с 0!) с помощью условий\n",
        "4. Производим одно из четырех возможных действий с первым и последним элементом созданного списка"
      ],
      "metadata": {
        "id": "ibVDS0oG6Kab"
      }
    },
    {
      "cell_type": "code",
      "source": [
        "numbers = input('Введите выражение: ')\n",
        "numbers = numbers.split(' ')\n",
        "if numbers[1] == '+':\n",
        "  print(int(numbers[0]) + int(numbers[2]))\n",
        "elif numbers[1] == '-':\n",
        "  print(int(numbers[0]) - int(numbers[2]))\n",
        "elif numbers[1] == ':':\n",
        "  print(int(numbers[0]) / int(numbers[2]))\n",
        "else:\n",
        "  print(int(numbers[0]) * int(numbers[2]))"
      ],
      "metadata": {
        "id": "TQroW6Jr7C0K",
        "colab": {
          "base_uri": "https://localhost:8080/"
        },
        "outputId": "af261695-547e-4262-da75-8eae82185506"
      },
      "execution_count": 31,
      "outputs": [
        {
          "output_type": "stream",
          "name": "stdout",
          "text": [
            "Введите выражение: 2 * 2\n",
            "4\n"
          ]
        }
      ]
    },
    {
      "cell_type": "markdown",
      "source": [
        "## Задание 5\n",
        "\n",
        "### Умный калькулятор\n",
        "\n",
        "**Образец работы программы:**\n",
        "\n",
        "```\n",
        "Введите выражение: 2 + 2\n",
        "4\n",
        "Введите выражение: 2 == 2\n",
        "True\n",
        "Введите выражение: 2 + 2.1\n",
        "4.1\n",
        "```\n",
        "Дополните калькулятор из задания 4:\n",
        "1. Замените операции с int операциями с float\n",
        "2. Научите калькулятор выполнять логические выражения, добавив новое условие\n",
        "3. Если результат вычисления - целое число (например, `4.0`), выводите целочисленный тип (`4`), иначе, выводите float"
      ],
      "metadata": {
        "id": "Byz1IibM7s8y"
      }
    },
    {
      "cell_type": "code",
      "source": [
        "numbers = input('Введите выражение: ')\n",
        "numbers = numbers.split(' ')\n",
        "if numbers[1] == '+':\n",
        "  p = float(numbers[0]) + float(numbers[2])\n",
        "  if p.is_integer() == True:\n",
        "    print(int(p))\n",
        "  else:\n",
        "    print(p)\n",
        "elif numbers[1] == '-':\n",
        "  p = float(numbers[0]) - float(numbers[2])\n",
        "  if p.is_integer() == True:\n",
        "    print(int(p))\n",
        "  else:\n",
        "    print(p)\n",
        "elif numbers[1] == ':':\n",
        "  p = float(numbers[0]) / float(numbers[2])\n",
        "  if p.is_integer() == True:\n",
        "    print(int(p))\n",
        "  else:\n",
        "    print(p)\n",
        "elif numbers[1] == '*':\n",
        "  p= float(numbers[0]) * float(numbers[2])\n",
        "  if p.is_integer() == True:\n",
        "    print(int(p))\n",
        "  else:\n",
        "    print(p)\n",
        "elif numbers[1] == '==' and numbers[0] == numbers[2]:\n",
        "  print('True')\n",
        "elif numbers[1] == '==' and numbers[0] != numbers[2]:\n",
        "  print('False')\n",
        "elif numbers[1] == '>' and numbers[0] > numbers[2]:\n",
        "  print('True')\n",
        "elif numbers[1] == '>' and numbers[0] < numbers[2]:\n",
        "  print('False')\n",
        "elif numbers[1] == '<' and numbers[0] < numbers[2]:\n",
        "  print('True')\n",
        "elif numbers[1] == '<' and numbers[0] > numbers[2]:\n",
        "  print('False')\n",
        "elif numbers[1] == '!=' and numbers[0] != numbers[2]:\n",
        "  print('True')\n",
        "elif numbers[1] == '!=' and numbers[0] == numbers[2]:\n",
        "  print('False')"
      ],
      "metadata": {
        "id": "z5cHM4Og7G9s",
        "colab": {
          "base_uri": "https://localhost:8080/"
        },
        "outputId": "c25012a2-0202-469e-d195-ad017d6981b8"
      },
      "execution_count": 67,
      "outputs": [
        {
          "output_type": "stream",
          "name": "stdout",
          "text": [
            "Введите выражение: 2 + 2\n",
            "4\n"
          ]
        }
      ]
    },
    {
      "cell_type": "markdown",
      "source": [
        "# Блок 2: задачи на обработку данных"
      ],
      "metadata": {
        "id": "HkO1aD2F9Iss"
      }
    },
    {
      "cell_type": "markdown",
      "source": [
        "## Задание 6\n",
        "\n",
        "### Фильтрация данных\n",
        "\n",
        "**Образец результата работы программы:**\n",
        "\n",
        "```\n",
        "Laptop\n",
        "Smartphone\n",
        "Tablet\n",
        "```\n",
        "\n",
        "**Условия:**\n",
        "\n",
        "Дан список продуктов в магазине техники:\n",
        "\n",
        "`\"Laptop True\", \"Headphones False\", \"Smartphone True\", \"Tablet True\", \"Speaker False\"`\n",
        "\n",
        "Каждый элемент списка состоит из двух слов:\n",
        "\n",
        "1. тип продукта (`Laptop`)\n",
        "2. его наличие (`True`) или отсутствие (`False`) в магазине\n",
        "\n",
        "Допишите код ниже, чтобы вывести на экран продукты в наличии.\n",
        "\n",
        "Используйте условие: вторая часть элемента списка должна быть равна `True`."
      ],
      "metadata": {
        "id": "pmEBQyIh9Ist"
      }
    },
    {
      "cell_type": "code",
      "execution_count": 40,
      "metadata": {
        "id": "i5vvEmhZ9Isv",
        "colab": {
          "base_uri": "https://localhost:8080/"
        },
        "outputId": "d79980fb-8a85-48b8-9d27-4b326a550a84"
      },
      "outputs": [
        {
          "output_type": "stream",
          "name": "stdout",
          "text": [
            "Laptop\n",
            "Smartphone\n",
            "Tablet\n"
          ]
        }
      ],
      "source": [
        "# Список продуктов\n",
        "products = [\"Laptop True\", \"Headphones False\", \"Smartphone True\", \"Tablet True\", \"Speaker False\"]\n",
        "\n",
        "# Начинаем перебирать список\n",
        "for product in products:\n",
        "  # если вторая часть текущего элемента списка product == True\n",
        "  product_name, product_availability = product.split()\n",
        "    # выведите на экран первую часть текущего элемента списка product\n",
        "  if product_availability == 'True':\n",
        "    print(product_name)\n"
      ]
    },
    {
      "cell_type": "markdown",
      "source": [
        "## Задание 7\n",
        "\n",
        "### Фильтрация по числу\n",
        "\n",
        "**Образец результата работы программы:**\n",
        "\n",
        "```\n",
        "Headphones\n",
        "Smartphone\n",
        "Tablet\n",
        "```\n",
        "\n",
        "**Условия:**\n",
        "\n",
        "Дан список продуктов в магазине техники:\n",
        "\n",
        "`\"Laptop 8\", \"Headphones 12\", \"Smartphone 41\", \"Tablet 10\", \"Speaker 6\"`\n",
        "\n",
        "Каждый элемент списка состоит из двух компонентов:\n",
        "\n",
        "1. тип продукта (`Laptop`)\n",
        "2. количество продуктов данного типа в магазине (`8`)\n",
        "\n",
        "Допишите код ниже, чтобы вывести на экран продукты, количество которых равно или больше 10.\n",
        "\n",
        "Используйте условие: вторая часть элемента списка должна быть равна или больше десяти."
      ],
      "metadata": {
        "id": "NdG5Y_Cg9Isv"
      }
    },
    {
      "cell_type": "code",
      "source": [
        "# Список продуктов\n",
        "num_products = [\"Laptop 8\", \"Headphones 12\", \"Smartphone 41\", \"Tablet 10\", \"Speaker 6\"]\n",
        "\n",
        "# Начинаем перебирать список\n",
        "for product in num_products:\n",
        "  product_name, product_numbers = product.split()\n",
        "  if int(product_numbers) >= 10:\n",
        "    print(product_name)"
      ],
      "metadata": {
        "id": "tpsi4s4l9Isw",
        "colab": {
          "base_uri": "https://localhost:8080/"
        },
        "outputId": "e5c08973-6126-429f-e548-9a12640517ab"
      },
      "execution_count": 78,
      "outputs": [
        {
          "output_type": "stream",
          "name": "stdout",
          "text": [
            "Headphones\n",
            "Smartphone\n",
            "Tablet\n"
          ]
        }
      ]
    },
    {
      "cell_type": "markdown",
      "source": [
        "## Задание 8\n",
        "\n",
        "### Изменение списка\n",
        "\n",
        "**Образец результата работы программы:**\n",
        "\n",
        "```\n",
        "`\"Headphones 12\", \"Smartphone 41\", \"Tablet 10\", \"Desktop 16\"`\n",
        "```\n",
        "\n",
        "**Условия:**\n",
        "\n",
        "Дан список новых продуктов для поставки магазин техники:\n",
        "\n",
        "`\"Desktop 16\", \"Mouse 2\", \"Keyboard 4\"`\n",
        "\n",
        "Каждый элемент списка состоит из двух компонентов:\n",
        "\n",
        "1. тип продукта (`Desktop`)\n",
        "2. количество продуктов данного типа в магазине (`16`)\n",
        "\n",
        "Допишите код ниже, чтобы добавить в список `num_products` продукты, количество которых равно или больше 10.\n",
        "\n",
        "Используйте условие и функцию `append`."
      ],
      "metadata": {
        "id": "Tf1rQpab9Isx"
      }
    },
    {
      "cell_type": "code",
      "source": [
        "new_products = [\"Desktop 16\", \"Mouse 2\", \"Keyboard 4\"]\n",
        "for product in new_products:\n",
        "  product_name, product_numbers = product.split()\n",
        "  if int(product_numbers) >= 10:\n",
        "    num_products.append(product) # Примените append к списку num_products\n",
        "    print(num_products)"
      ],
      "metadata": {
        "id": "LSd3_vPw9Isx",
        "colab": {
          "base_uri": "https://localhost:8080/"
        },
        "outputId": "65971440-6426-4c19-8316-708e9171835f"
      },
      "execution_count": 79,
      "outputs": [
        {
          "output_type": "stream",
          "name": "stdout",
          "text": [
            "['Laptop 8', 'Headphones 12', 'Smartphone 41', 'Tablet 10', 'Speaker 6', 'Desktop 16']\n"
          ]
        }
      ]
    },
    {
      "cell_type": "markdown",
      "source": [
        "Удалите из `num_products` элементы, количество которых меньше 10.\n",
        "\n",
        "Используйте `remove`. Когда мы используем `remove`, список меняется и в следующей итерации могут вознкнуть конфликты.\n",
        "\n",
        "    Пример:  \n",
        "      Итерация 1: удали третий элемент из списка [1, 2, 3]\n",
        "      Итерация 2: удали третий элемент из списка [1, 2] - ошибка!\n",
        "\n",
        "Поэтому мы создаем временную копию списка `num_products[:]`."
      ],
      "metadata": {
        "id": "FAIsp2TOB1_a"
      }
    },
    {
      "cell_type": "code",
      "source": [
        "for product in num_products[:]: # [:] создает копию списка, чтобы избежать конфликтов\n",
        "  # Проверьте количество продуктов\n",
        "  product_name, product_numbers = product.split()\n",
        "  if int(product_numbers) < 10:\n",
        "    # Примените remove к списку num_products\n",
        "    num_products.remove(product)\n",
        "    print(num_products)"
      ],
      "metadata": {
        "id": "Gt-6sSw9B-_f",
        "colab": {
          "base_uri": "https://localhost:8080/"
        },
        "outputId": "abd63e62-947f-416d-e31b-86285d58e63f"
      },
      "execution_count": 80,
      "outputs": [
        {
          "output_type": "stream",
          "name": "stdout",
          "text": [
            "['Headphones 12', 'Smartphone 41', 'Tablet 10', 'Speaker 6', 'Desktop 16']\n",
            "['Headphones 12', 'Smartphone 41', 'Tablet 10', 'Desktop 16']\n"
          ]
        }
      ]
    },
    {
      "cell_type": "markdown",
      "source": [
        "## Задание 9\n",
        "\n",
        "### Фильтрация списка имен\n",
        "\n",
        "**Образец результата работы программы:**\n",
        "\n",
        "```\n",
        "a_k = \"Alex\", \"Chloe\", \"George\", \"Jordan\"\n",
        "l_z = \"Lauren\", \"Tom\"\n",
        "```\n",
        "\n",
        "**Условия:**\n",
        "\n",
        "Дан список имен:\n",
        "\n",
        "`[\"Tom\", \"Chloe\", \"Alex\", \"George\", \"Lauren\", \"Jordan\"]`\n",
        "\n",
        "Создайте два списка и отсортируйте их в алфавитном порядке:\n",
        "\n",
        "1. `a_k`: список имен, начинающихся с букв в диапазоне от `A` до `K` (буквы чувствительны к регистру и ранжируются [как числа] от A до Z и далее от a до z)\n",
        "2. `l_z`: список от `L` до `Z`"
      ],
      "metadata": {
        "id": "JPbwkam09Isx"
      }
    },
    {
      "cell_type": "code",
      "source": [
        "names = [\"Tom\", \"Chloe\", \"Alex\", \"George\", \"Lauren\", \"Jordan\"]\n",
        "\n",
        "# Создайте 2 пустых списка a_k и l_z\n",
        "a_k = []\n",
        "l_z = []\n",
        "\n",
        "for name in names:\n",
        "  # Используйте append, чтобы внести в a_k имена от A до K\n",
        "    if 'A' <= name[0] <= 'K':  # Имена с буквами от A до K\n",
        "        a_k.append(name)\n",
        "    elif 'L' <= name[0] <= 'Z':  # Имена с буквами от L до Z\n",
        "        l_z.append(name)\n",
        "\n",
        "# Используйте sorted, чтобы перезаписать в оба списка отсортированные по алфавиту данные\n",
        "a_k.sort()\n",
        "l_z.sort()\n",
        "\n",
        "print(a_k)\n",
        "print(l_z)"
      ],
      "metadata": {
        "id": "BPzG9mme9Isx",
        "colab": {
          "base_uri": "https://localhost:8080/"
        },
        "outputId": "d7e8a2fc-957d-4e48-9aa2-f48d585cc4c0"
      },
      "execution_count": 81,
      "outputs": [
        {
          "output_type": "stream",
          "name": "stdout",
          "text": [
            "['Alex', 'Chloe', 'George', 'Jordan']\n",
            "['Lauren', 'Tom']\n"
          ]
        }
      ]
    },
    {
      "cell_type": "markdown",
      "source": [
        "## Задание 10\n",
        "\n",
        "### Фильтрация типов\n",
        "\n",
        "**Образец результата работы программы:**\n",
        "\n",
        "```\n",
        "nums = [1, 3, 4]\n",
        "names = [\"apple\", \"banana\", \"kiwi\"]\n",
        "floats = [2.5, 7.6]\n",
        "bools = [True, True, False]\n",
        "```\n",
        "\n",
        "**Условия:**\n",
        "\n",
        "Дан список данных разных типов:\n",
        "\n",
        "`3, 1, \"kiwi\", 7.6, False, True, \"apple\", 2.5, \"banana\", True, 4`\n",
        "\n",
        "Используйте выражение `if isinstance(element, type)`, где `type` - питоновский тип (`int`, `str`...), чтобы создать списки, содержащие элементы одного типа.\n",
        "\n",
        "Отсортируйте списки с помощью `sorted`."
      ],
      "metadata": {
        "id": "_GVE8_lb9Isx"
      }
    },
    {
      "cell_type": "code",
      "source": [
        "mixed_list = [3, 1, \"kiwi\", 7.6, False, True, \"apple\", 2.5, \"banana\", True, 4]\n",
        "\n",
        "# Создайте пустые списки\n",
        "nums = []\n",
        "names = []\n",
        "floats = []\n",
        "bools = []\n",
        "\n",
        "for element in mixed_list:\n",
        "  if isinstance(element, bool):  # Если элемент - целое число\n",
        "      bools.append(element)\n",
        "  elif isinstance(element, str):  # Если элемент - строка\n",
        "      names.append(element)\n",
        "  elif isinstance(element, float):  # Если элемент - число с плавающей точкой\n",
        "      floats.append(element)\n",
        "  elif isinstance(element, int):  # Если элемент - логическое значение\n",
        "      nums.append(element)\n",
        "\n",
        "# Отсортируйте списки\n",
        "nums = sorted(nums)\n",
        "names = sorted(names)\n",
        "floats = sorted(floats)\n",
        "bools = sorted(bools)\n",
        "\n",
        "# Выводим отсортированные списки\n",
        "print(f\"nums = {nums}\")\n",
        "print(f\"names = {names}\")\n",
        "print(f\"floats = {floats}\")\n",
        "print(f\"bools = {bools}\")"
      ],
      "metadata": {
        "id": "wI_V15MM9Isy",
        "colab": {
          "base_uri": "https://localhost:8080/"
        },
        "outputId": "827a2183-f940-4b47-a0ef-f5d77365b1ab"
      },
      "execution_count": 85,
      "outputs": [
        {
          "output_type": "stream",
          "name": "stdout",
          "text": [
            "nums = [1, 3, 4]\n",
            "names = ['apple', 'banana', 'kiwi']\n",
            "floats = [2.5, 7.6]\n",
            "bools = [False, True, True]\n"
          ]
        }
      ]
    }
  ]
}