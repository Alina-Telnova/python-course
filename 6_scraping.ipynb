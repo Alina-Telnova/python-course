{
  "nbformat": 4,
  "nbformat_minor": 0,
  "metadata": {
    "colab": {
      "provenance": [],
      "include_colab_link": true
    },
    "kernelspec": {
      "name": "python3",
      "display_name": "Python 3"
    },
    "language_info": {
      "name": "python"
    }
  },
  "cells": [
    {
      "cell_type": "markdown",
      "metadata": {
        "id": "view-in-github",
        "colab_type": "text"
      },
      "source": [
        "<a href=\"https://colab.research.google.com/github/Alina-Telnova/python-course/blob/master/6_scraping.ipynb\" target=\"_parent\"><img src=\"https://colab.research.google.com/assets/colab-badge.svg\" alt=\"Open In Colab\"/></a>"
      ]
    },
    {
      "cell_type": "markdown",
      "source": [
        "**Задание 1**\n",
        "\n",
        "Написать функцию для скрейпинга веб-страниц"
      ],
      "metadata": {
        "id": "vi_saniub3hP"
      }
    },
    {
      "cell_type": "code",
      "source": [
        "'''\n",
        "Импортируйте библиотеки для скрейпинга веб-страниц\n",
        "'''\n",
        "!pip install beautifulsoup4 requests\n",
        "### ваш код здесь ###"
      ],
      "metadata": {
        "id": "aWlZpSILeLJN",
        "colab": {
          "base_uri": "https://localhost:8080/"
        },
        "outputId": "7ba4d366-ec99-44ad-f863-02de4abc277c"
      },
      "execution_count": null,
      "outputs": [
        {
          "output_type": "stream",
          "name": "stdout",
          "text": [
            "Requirement already satisfied: beautifulsoup4 in /usr/local/lib/python3.10/dist-packages (4.12.3)\n",
            "Requirement already satisfied: requests in /usr/local/lib/python3.10/dist-packages (2.32.3)\n",
            "Requirement already satisfied: soupsieve>1.2 in /usr/local/lib/python3.10/dist-packages (from beautifulsoup4) (2.6)\n",
            "Requirement already satisfied: charset-normalizer<4,>=2 in /usr/local/lib/python3.10/dist-packages (from requests) (3.4.0)\n",
            "Requirement already satisfied: idna<4,>=2.5 in /usr/local/lib/python3.10/dist-packages (from requests) (3.10)\n",
            "Requirement already satisfied: urllib3<3,>=1.21.1 in /usr/local/lib/python3.10/dist-packages (from requests) (2.2.3)\n",
            "Requirement already satisfied: certifi>=2017.4.17 in /usr/local/lib/python3.10/dist-packages (from requests) (2024.8.30)\n"
          ]
        }
      ]
    },
    {
      "cell_type": "code",
      "source": [
        "#импортируйте библиотеки для скрейпинга\n",
        "from bs4 import BeautifulSoup\n",
        "import requests"
      ],
      "metadata": {
        "id": "xV7Fa_PnEK7t"
      },
      "execution_count": null,
      "outputs": []
    },
    {
      "cell_type": "code",
      "source": [
        "def scrape_text_from_url(url, tag, class_=None):\n",
        "    import requests\n",
        "    from bs4 import BeautifulSoup\n",
        "\n",
        "    try:\n",
        "        response = requests.get(url)# Выполняем HTML-запрос\n",
        "        if response.status_code == 200: # Если запрос успешный (возвращаем значение 200)\n",
        "            soup = BeautifulSoup(response.text, 'html.parser') # парсим контент или текст с помощью BeautifulSoup html.parser\n",
        "\n",
        "            paragraphs = soup.find_all(tag, class_=class_) # Ищем теги и классы на основании аргументов функции\n",
        "\n",
        "            text = \"\" # Создаем переменную text для накопления текста\n",
        "            # Перебираем элементы paragraphs и извлекаем текстовые данные\n",
        "            for p in paragraphs:\n",
        "                text += p.get_text() + \"\\n\"\n",
        "\n",
        "            return text\n",
        "        else:\n",
        "            # Иначе выводим статус-код и сообщение об ошибке\n",
        "            return f\"Ошибка: не удалось получить доступ к странице. Статус-код: {response.status_code}\"\n",
        "    except Exception as e:\n",
        "        # Обрабатываем возможные ошибки\n",
        "        return f\"Произошла ошибка: {str(e)}\""
      ],
      "metadata": {
        "id": "AI-6i4LWeL82"
      },
      "execution_count": null,
      "outputs": []
    },
    {
      "cell_type": "code",
      "source": [
        "'''\n",
        "Проверяем функцию для скрейпинга: пример 1\n",
        "'''\n",
        "\n",
        "scrape_text_from_url('https://en.wikipedia.org/wiki/Chomsky_hierarchy', 'p')"
      ],
      "metadata": {
        "colab": {
          "base_uri": "https://localhost:8080/",
          "height": 123
        },
        "id": "TrKlqhx5fcGB",
        "outputId": "f48458ad-3db8-4ae4-9a78-241e79d64575"
      },
      "execution_count": null,
      "outputs": [
        {
          "output_type": "execute_result",
          "data": {
            "text/plain": [
              "'TheChomsky hierarchyin the fields offormal language theory,computer science, andlinguistics, is acontainment hierarchyof classes offormal grammars. A formal grammar describes how to form strings from a language\\'s vocabulary (or alphabet) that are valid according to the language\\'s syntax. The linguistNoam Chomskytheorized that four different classes of formal grammars existed that could generate increasingly complex languages. Each class can also completely generate the language of all inferior classes (set inclusive).\\nThe general idea of a hierarchy of grammars was first described by Noam Chomsky in \"Three models for the description of language\" during the formalization oftransformational-generative grammar(TGG).[1]Marcel-Paul Schützenbergeralso played a role in the development of the theory offormal languages; the paper \"The algebraic theory of context free languages\"[2]describes the modern hierarchy, including context-free grammars.[3]\\nIndependently, alongside linguists, mathematicians were developing models of computation (viaautomata). Parsing a sentence in a language is similar to computation, and the grammars described by Chomsky proved to both resemble and be equivalent in computational power to various machine models.[4]\\nThe following table summarizes each of Chomsky\\'s four types of grammars, the class of language it generates, the type of automaton that recognizes it, and the form its rules must have. The classes are defined by the constraints on the productions rules.\\nNote that the set of grammars corresponding torecursive languagesis not a member of this hierarchy; these would be properly between Type-0 and Type-1.\\nEvery regular language is context-free, every context-free language is context-sensitive, every context-sensitive language is recursive and every recursive language is recursively enumerable. These are all proper inclusions, meaning that there exist recursively enumerable languages that are not context-sensitive, context-sensitive languages that are not context-free and context-free languages that are not regular.[7]\\nType-3 grammars generate theregular languages. Such a grammar restricts its rules to a single nonterminal on the left-hand side and a right-hand side consisting of a single terminal, possibly followed by a single nonterminal, in which case the grammar isright regular. Alternatively, all the rules can have their right-hand sides consist of a single terminal, possiblyprecededby a single nonterminal (left regular). These generate the same languages. However, if left-regular rules and right-regular rules are combined, the language need no longer be regular. The ruleS→ε{\\\\displaystyle S\\\\rightarrow \\\\varepsilon }is also allowed here ifS{\\\\displaystyle S}does not appear on the right side of any rule. These languages are exactly all languages that can be decided by afinite-state automaton. Additionally, this family of formal languages can be obtained byregular expressions. Regular languages are commonly used to define search patterns and the lexical structure of programming languages.\\nFor example, the regular languageL={an|n>0}{\\\\displaystyle L=\\\\{a^{n}|n>0\\\\}}is generated by the Type-3 grammarG=({S},{a,b},P,S){\\\\displaystyle G=(\\\\{S\\\\},\\\\{a,b\\\\},P,S)}with the productionsP{\\\\displaystyle P}being the following.\\nType-2 grammars generate thecontext-free languages. These are defined by rules of the formA→α{\\\\displaystyle A\\\\rightarrow \\\\alpha }withA{\\\\displaystyle A}being a nonterminal andα{\\\\displaystyle \\\\alpha }being a string of terminals and/or nonterminals. These languages are exactly all languages that can be recognized by a non-deterministicpushdown automaton. Context-free languages—or rather its subset ofdeterministic context-free languages—are the theoretical basis for the phrase structure of mostprogramming languages, though their syntax also includes context-sensitivename resolutiondue to declarations andscope. Often a subset of grammars is used to make parsing easier, such as by anLL parser.\\nFor example, the context-free languageL={anbn|n>0}{\\\\displaystyle L=\\\\{a^{n}b^{n}|n>0\\\\}}is generated by the Type-2 grammarG=({S},{a,b},P,S){\\\\displaystyle G=(\\\\{S\\\\},\\\\{a,b\\\\},P,S)}with the productionsP{\\\\displaystyle P}being the following.\\nThe language is context-free but not regular (by thepumping lemma for regular languages).\\nType-1 grammars generatecontext-sensitive languages. These grammars have rules of the formαAβ→αγβ{\\\\displaystyle \\\\alpha A\\\\beta \\\\rightarrow \\\\alpha \\\\gamma \\\\beta }withA{\\\\displaystyle A}a nonterminal andα{\\\\displaystyle \\\\alpha },β{\\\\displaystyle \\\\beta }andγ{\\\\displaystyle \\\\gamma }strings of terminals and/or nonterminals. The stringsα{\\\\displaystyle \\\\alpha }andβ{\\\\displaystyle \\\\beta }may be empty, butγ{\\\\displaystyle \\\\gamma }must be nonempty.  The ruleS→ϵ{\\\\displaystyle S\\\\rightarrow \\\\epsilon }is allowed ifS{\\\\displaystyle S}does not appear on the right side of any rule.  The languages described by these grammars are exactly all languages that can be recognized by alinear bounded automaton(a nondeterministic Turing machine whose tape is bounded by a constant times the length of the input.)\\nFor example, the context-sensitive languageL={anbncn|n>0}{\\\\displaystyle L=\\\\{a^{n}b^{n}c^{n}|n>0\\\\}}is generated by the Type-1 grammarG=({S,A,B,C,W,Z},{a,b},P,S){\\\\displaystyle G=(\\\\{S,A,B,C,W,Z\\\\},\\\\{a,b\\\\},P,S)}with the productionsP{\\\\displaystyle P}being the following.\\nThe language is context-sensitive but not context-free (by thepumping lemma for context-free languages).\\nA proof that this grammar generatesL={anbncn|n>0}{\\\\displaystyle L=\\\\{a^{n}b^{n}c^{n}|n>0\\\\}}is sketched in the article onContext-sensitive grammars.\\nType-0 grammars include all formal grammars. There are no constraints on the productions rules. They generate exactly all languages that can be recognized by aTuring machine, thus any language that is possible to be generated can be generated by a Type-0 grammar.[8]These languages are also known as therecursively enumerableorTuring-recognizablelanguages.[8]Note that this is different from therecursive languages, which can bedecidedby analways-halting Turing machine.'"
            ],
            "application/vnd.google.colaboratory.intrinsic+json": {
              "type": "string"
            }
          },
          "metadata": {},
          "execution_count": 41
        }
      ]
    },
    {
      "cell_type": "code",
      "source": [
        "'''\n",
        "Проверяем функцию для скрейпинга: пример 2\n",
        "'''\n",
        "\n",
        "scrape_text_from_url('https://www.rottentomatoes.com/m/civil_war_2024/reviews', 'p', 'review-text')\n"
      ],
      "metadata": {
        "colab": {
          "base_uri": "https://localhost:8080/",
          "height": 123
        },
        "id": "tz6rp1Gsfi2K",
        "outputId": "58bf42ae-a1e4-4fc4-be14-f9a3abe0eb01"
      },
      "execution_count": null,
      "outputs": [
        {
          "output_type": "execute_result",
          "data": {
            "text/plain": [
              "\"Civil War is not a film about why extreme division happens; it’s about the personal impact of division at its worst.\\nA staggering and frequently brilliant film looking at a hopefully just fictionalized version of America destroying itself from within.\\nGarland seems poised to be make political points, to show how our current political dysfunction could lead to something far worse… but he never follows through.\\nThis violent tale of anaesthetised reporters is just a war yarn with a twist.\\nThis easy digital fakeness is there to get the audience used to it...\\nRather than glorifying war, the film is artful and meditative, making us feel the pointlessness of this violence, how unglamorous and exhausting and unheroic it is.\\nIt’s not always subtle, and in some cases it’s even frustrating with some of its narrative decisions, but nothing can deny its uncanny ability to leave you horrified by how war, civil or otherwise, can be truly monstrous from any humanist angle.\\nThe film isn’t very deep, but it does paint the grimmest picture possible of a divided nation with bodies bodies bodies everywhere.\\nWith a career best performance from Kirsten Dunst and a pulsating sound design, Civil War is a thrilling body of work that should be talked about in journalism circles.\\nGarland's decision to forego any narrative antecedent makes the predictable ending that much more of a bummer. Civil War is a more muscular film than Men. Like that movie, however, it mistakes broad brush strokes for insight.\\nAudiences expecting a meticulously-crafted backstory for how this war started and who the players are will be sorely disappointed.\\nThis is another war-is-awful movie, tracing the experiences of a team of photojournalists who throw themselves into the firing line. And even without much of a point, it's rivetingly well-made.\\nGarland uses violence as a means to a much larger end that should leave moviegoers disturbed and, at times, sickened; that should leave us challenged to think rather than feeling any kind of welcome catharsis. The final shot ... is stunning in its irony.\\nThe film seems caught between wanting to be exciting and devastating, as it threatens to turn its captivating story into another generic shoot-them-up war film, just on a grander scale.\\nCivil War is not a polemic, but it is a mirror to the USA’s political crisis.\\nIf beauty is the sole standard for their work, then the film’s view of war photography is as an aesthetic death cult.\\nGarland appears to make movies less for audiences than as think pieces, and, given the esteem in which his films are held, the ploy has paid off handsomely.\\nAn urgent film about a barely-distant future.\\nThere’s a cautionary message then in the madness: stop or perish; the choice is entirely ours.\\nCivil War is a reflection of what you bring to it. That puts the impetus on the viewer to meet the film on its level. Some won’t like what they find. The nature of that discussion is what will ultimately make this film immortal.\""
            ],
            "application/vnd.google.colaboratory.intrinsic+json": {
              "type": "string"
            }
          },
          "metadata": {},
          "execution_count": 42
        }
      ]
    },
    {
      "cell_type": "markdown",
      "source": [
        "**Задание 2**\n",
        "Написать функцию для сентимент-анализа"
      ],
      "metadata": {
        "id": "4yAvz7QEb8yh"
      }
    },
    {
      "cell_type": "code",
      "source": [
        "'''\n",
        "Загружаем списки слов с положительным и отрицательным значением\n",
        "'''\n",
        "\n",
        "!wget https://raw.githubusercontent.com/vifirsanova/hse-python-course/main/data/neg.txt\n",
        "!wget https://raw.githubusercontent.com/vifirsanova/hse-python-course/main/data/pos.txt\n",
        "\n",
        "with open('neg.txt') as f:\n",
        "  neg = f.read()\n",
        "\n",
        "with open('pos.txt') as f:\n",
        "  pos = f.read()"
      ],
      "metadata": {
        "colab": {
          "base_uri": "https://localhost:8080/"
        },
        "id": "AVqGhbkssw0m",
        "outputId": "111294a8-152f-44e4-b920-f5156028c145"
      },
      "execution_count": null,
      "outputs": [
        {
          "output_type": "stream",
          "name": "stdout",
          "text": [
            "--2024-12-10 17:29:24--  https://raw.githubusercontent.com/vifirsanova/hse-python-course/main/data/neg.txt\n",
            "Resolving raw.githubusercontent.com (raw.githubusercontent.com)... 185.199.108.133, 185.199.109.133, 185.199.110.133, ...\n",
            "Connecting to raw.githubusercontent.com (raw.githubusercontent.com)|185.199.108.133|:443... connected.\n",
            "HTTP request sent, awaiting response... 200 OK\n",
            "Length: 44759 (44K) [text/plain]\n",
            "Saving to: ‘neg.txt’\n",
            "\n",
            "neg.txt             100%[===================>]  43.71K  --.-KB/s    in 0.01s   \n",
            "\n",
            "2024-12-10 17:29:24 (3.88 MB/s) - ‘neg.txt’ saved [44759/44759]\n",
            "\n",
            "--2024-12-10 17:29:24--  https://raw.githubusercontent.com/vifirsanova/hse-python-course/main/data/pos.txt\n",
            "Resolving raw.githubusercontent.com (raw.githubusercontent.com)... 185.199.108.133, 185.199.109.133, 185.199.110.133, ...\n",
            "Connecting to raw.githubusercontent.com (raw.githubusercontent.com)|185.199.108.133|:443... connected.\n",
            "HTTP request sent, awaiting response... 200 OK\n",
            "Length: 19093 (19K) [text/plain]\n",
            "Saving to: ‘pos.txt’\n",
            "\n",
            "pos.txt             100%[===================>]  18.65K  --.-KB/s    in 0.001s  \n",
            "\n",
            "2024-12-10 17:29:25 (28.4 MB/s) - ‘pos.txt’ saved [19093/19093]\n",
            "\n"
          ]
        }
      ]
    },
    {
      "cell_type": "code",
      "source": [
        "'''\n",
        "Создайте списки слов, разделив строку по знаку \\n\n",
        "'''\n",
        "\n",
        "pos_list, neg_list = pos.strip().split(\"\\n\"), neg.strip().split('\\n')\n",
        "\n",
        "pos_list[:10]"
      ],
      "metadata": {
        "colab": {
          "base_uri": "https://localhost:8080/"
        },
        "id": "vquXeXlDvG_Z",
        "outputId": "d9a69bf6-75d9-4813-b083-51947ec2516b"
      },
      "execution_count": null,
      "outputs": [
        {
          "output_type": "execute_result",
          "data": {
            "text/plain": [
              "['a+',\n",
              " 'abound',\n",
              " 'abounds',\n",
              " 'abundance',\n",
              " 'abundant',\n",
              " 'accessable',\n",
              " 'accessible',\n",
              " 'acclaim',\n",
              " 'acclaimed',\n",
              " 'acclamation']"
            ]
          },
          "metadata": {},
          "execution_count": 7
        }
      ]
    },
    {
      "cell_type": "code",
      "source": [
        "'''\n",
        "Допишите функцию для анализа тональности\n",
        "Функция принимает на вход 3 аргумента:\n",
        "  - переменную text с текстов для анализа\n",
        "  - 2 списка со словами для анализа тональности: positive_words и negative_words\n",
        "'''\n",
        "import spacy\n",
        "\n",
        "nlp = spacy.load(\"en_core_web_sm\")\n",
        "\n",
        "def analyze_sentiment (text, positive_words, negative_words):\n",
        "    doc = nlp(text.lower()) #обработка текста через spacy\n",
        "    words = [token.text for token in doc if not token.is_stop and not token.is_punct] # Извлечение токенов без стоп-слов и знаков препинания\n",
        "\n",
        "    # Считаем скор тональности: количество пересечений между списками words и положительными / отрицательными словами\n",
        "    positive_count = sum(1 for word in words if word in positive_words)\n",
        "    negative_count = sum(1 for word in words if word in negative_words)\n",
        "\n",
        "# Определение тональности\n",
        "    if positive_count > negative_count:\n",
        "        return 'positive'\n",
        "    elif negative_count > positive_count:\n",
        "        return 'negative'\n",
        "    else:\n",
        "        return 'neutral'"
      ],
      "metadata": {
        "id": "oZ7AmEM1vlL4"
      },
      "execution_count": null,
      "outputs": []
    },
    {
      "cell_type": "code",
      "source": [
        "'''\n",
        "Проверяем функцию для анализа тональности: пример 1\n",
        "'''\n",
        "\n",
        "analyze_sentiment('This sample text is awesome!', pos_list, neg_list)"
      ],
      "metadata": {
        "colab": {
          "base_uri": "https://localhost:8080/",
          "height": 36
        },
        "id": "Y31yIOJ6xXS_",
        "outputId": "2eebac06-da7e-4b2a-af2e-d92b5d2e77d5"
      },
      "execution_count": null,
      "outputs": [
        {
          "output_type": "execute_result",
          "data": {
            "text/plain": [
              "'positive'"
            ],
            "application/vnd.google.colaboratory.intrinsic+json": {
              "type": "string"
            }
          },
          "metadata": {},
          "execution_count": 43
        }
      ]
    },
    {
      "cell_type": "code",
      "source": [
        "'''\n",
        "Проверяем функцию для анализа тональности: пример 2\n",
        "'''\n",
        "\n",
        "analyze_sentiment('I hate this sample text.', pos_list, neg_list)"
      ],
      "metadata": {
        "colab": {
          "base_uri": "https://localhost:8080/",
          "height": 36
        },
        "id": "r1ubjl49x1qX",
        "outputId": "27286159-6707-4d36-a287-317396dd957c"
      },
      "execution_count": null,
      "outputs": [
        {
          "output_type": "execute_result",
          "data": {
            "text/plain": [
              "'negative'"
            ],
            "application/vnd.google.colaboratory.intrinsic+json": {
              "type": "string"
            }
          },
          "metadata": {},
          "execution_count": 44
        }
      ]
    },
    {
      "cell_type": "code",
      "source": [
        "'''\n",
        "Проверяем функцию для анализа тональности: пример 3\n",
        "'''\n",
        "\n",
        "analyze_sentiment('We love and hate this sample text at the same time!', pos_list, neg_list)"
      ],
      "metadata": {
        "colab": {
          "base_uri": "https://localhost:8080/",
          "height": 36
        },
        "id": "lh7-EgSYx7vb",
        "outputId": "06d89184-1df1-491f-a0b1-b725f760f65a"
      },
      "execution_count": null,
      "outputs": [
        {
          "output_type": "execute_result",
          "data": {
            "text/plain": [
              "'neutral'"
            ],
            "application/vnd.google.colaboratory.intrinsic+json": {
              "type": "string"
            }
          },
          "metadata": {},
          "execution_count": 45
        }
      ]
    },
    {
      "cell_type": "markdown",
      "source": [
        "**Задача 3**\n",
        "\n",
        "Написать функцию для вывода сентимент-скоров"
      ],
      "metadata": {
        "id": "pQe6yWNicClB"
      }
    },
    {
      "cell_type": "code",
      "source": [
        "'''\n",
        "Допишите функцию для вывода скоров по заданному URL\n",
        "'''\n",
        "\n",
        "def analyze(positive_words, negative_words, url, tag, class_=None):\n",
        "  # примените функцию scrape_text_from_url\n",
        "    scraped_text = scrape_text_from_url(url, tag, class_)\n",
        "\n",
        "    # сегментируйте текст по предложениям (чеорез точку)\n",
        "    doc = nlp(scraped_text)\n",
        "    sentences = [sent.text for sent in doc.sents]\n",
        "\n",
        "    # создаем пустой список, куда запишем скоры\n",
        "    sentiments = []\n",
        "\n",
        "    # начинаем перебор по предложениям\n",
        "    for sentence in sentences:\n",
        "      # получаем скор для данного предложения с помощью функции analyze_sentiment\n",
        "        score = analyze_sentiment(sentence, positive_words, negative_words)\n",
        "      # добавляем скор в созданный список\n",
        "        sentiments.append(score)\n",
        "\n",
        "    # Возвращаем список скоров\n",
        "    return sentiments"
      ],
      "metadata": {
        "id": "2x1O80L70uDG"
      },
      "execution_count": null,
      "outputs": []
    },
    {
      "cell_type": "code",
      "source": [
        "'''\n",
        "Тест 1\n",
        "'''\n",
        "\n",
        "analyze(url='https://en.wikipedia.org/wiki/Chomsky_hierarchy', tag='p', positive_words=pos, negative_words=neg)[:10]"
      ],
      "metadata": {
        "colab": {
          "base_uri": "https://localhost:8080/"
        },
        "id": "kc2UL_222Mle",
        "outputId": "ed493434-8ac5-4a0c-a1a2-c397f5a3da78"
      },
      "execution_count": null,
      "outputs": [
        {
          "output_type": "execute_result",
          "data": {
            "text/plain": [
              "['neutral',\n",
              " 'negative',\n",
              " 'negative',\n",
              " 'negative',\n",
              " 'positive',\n",
              " 'negative',\n",
              " 'negative',\n",
              " 'positive',\n",
              " 'negative',\n",
              " 'negative']"
            ]
          },
          "metadata": {},
          "execution_count": 46
        }
      ]
    },
    {
      "cell_type": "code",
      "source": [
        "'''\n",
        "Тест 2\n",
        "'''\n",
        "\n",
        "analyze(url='https://www.rottentomatoes.com/m/civil_war_2024/reviews', tag='p', class_='review-text', positive_words=pos, negative_words=neg)[:10]"
      ],
      "metadata": {
        "colab": {
          "base_uri": "https://localhost:8080/"
        },
        "id": "C9XzHV953Aux",
        "outputId": "c8a4dd83-8003-42b8-d81d-35074f17e240"
      },
      "execution_count": null,
      "outputs": [
        {
          "output_type": "execute_result",
          "data": {
            "text/plain": [
              "['negative',\n",
              " 'negative',\n",
              " 'negative',\n",
              " 'negative',\n",
              " 'neutral',\n",
              " 'negative',\n",
              " 'negative',\n",
              " 'neutral',\n",
              " 'negative',\n",
              " 'neutral']"
            ]
          },
          "metadata": {},
          "execution_count": 47
        }
      ]
    },
    {
      "cell_type": "markdown",
      "source": [
        "**Задача 4**\n",
        "\n",
        "Визуализировать результаты анализа"
      ],
      "metadata": {
        "id": "-IkiyB5ldbt9"
      }
    },
    {
      "cell_type": "code",
      "execution_count": null,
      "metadata": {
        "colab": {
          "base_uri": "https://localhost:8080/"
        },
        "id": "zqEXVu-VZcUG",
        "outputId": "5f917005-771c-42a3-ef77-805d0e1dbabe"
      },
      "outputs": [
        {
          "output_type": "execute_result",
          "data": {
            "text/plain": [
              "Counter({'neutral': 8, 'negative': 25, 'positive': 4})"
            ]
          },
          "metadata": {},
          "execution_count": 48
        }
      ],
      "source": [
        "'''\n",
        "Создаем частотный словарь с помощью библиотеки Counter.\n",
        "Можно выбрать другие веб-страницы для анализа!\n",
        "'''\n",
        "\n",
        "from collections import Counter\n",
        "\n",
        "sample1 = Counter(analyze(url='https://en.wikipedia.org/wiki/Chomsky_hierarchy', tag='p', positive_words=pos, negative_words=neg))\n",
        "sample2 = Counter(analyze(url='https://www.rottentomatoes.com/m/civil_war_2024/reviews', tag='p', class_='review-text', positive_words=pos, negative_words=neg))\n",
        "\n",
        "sample1"
      ]
    },
    {
      "cell_type": "code",
      "source": [
        "!pip install matplotlib"
      ],
      "metadata": {
        "colab": {
          "base_uri": "https://localhost:8080/"
        },
        "id": "_b8ou-jqwY9D",
        "outputId": "7f0bb942-d10a-4d1f-aa54-d81e5e0b9e0e"
      },
      "execution_count": null,
      "outputs": [
        {
          "output_type": "stream",
          "name": "stdout",
          "text": [
            "Requirement already satisfied: matplotlib in /usr/local/lib/python3.10/dist-packages (3.8.0)\n",
            "Requirement already satisfied: contourpy>=1.0.1 in /usr/local/lib/python3.10/dist-packages (from matplotlib) (1.3.1)\n",
            "Requirement already satisfied: cycler>=0.10 in /usr/local/lib/python3.10/dist-packages (from matplotlib) (0.12.1)\n",
            "Requirement already satisfied: fonttools>=4.22.0 in /usr/local/lib/python3.10/dist-packages (from matplotlib) (4.55.1)\n",
            "Requirement already satisfied: kiwisolver>=1.0.1 in /usr/local/lib/python3.10/dist-packages (from matplotlib) (1.4.7)\n",
            "Requirement already satisfied: numpy<2,>=1.21 in /usr/local/lib/python3.10/dist-packages (from matplotlib) (1.26.4)\n",
            "Requirement already satisfied: packaging>=20.0 in /usr/local/lib/python3.10/dist-packages (from matplotlib) (24.2)\n",
            "Requirement already satisfied: pillow>=6.2.0 in /usr/local/lib/python3.10/dist-packages (from matplotlib) (11.0.0)\n",
            "Requirement already satisfied: pyparsing>=2.3.1 in /usr/local/lib/python3.10/dist-packages (from matplotlib) (3.2.0)\n",
            "Requirement already satisfied: python-dateutil>=2.7 in /usr/local/lib/python3.10/dist-packages (from matplotlib) (2.8.2)\n",
            "Requirement already satisfied: six>=1.5 in /usr/local/lib/python3.10/dist-packages (from python-dateutil>=2.7->matplotlib) (1.16.0)\n"
          ]
        }
      ]
    },
    {
      "cell_type": "code",
      "source": [
        "'''\n",
        "Создаем визуализацию: попробуйте использование новые данные (данные других url)\n",
        "'''\n",
        "\n",
        "import numpy as np\n",
        "import pandas as pd\n",
        "import matplotlib.pyplot as plt\n",
        "\n",
        "\n",
        "df1 = pd.DataFrame.from_dict(sample1, orient='index', columns=['Wikipedia'])\n",
        "df2 = pd.DataFrame.from_dict(sample2, orient='index', columns=['Rotten'])\n",
        "\n",
        "fig, ax = plt.subplots(ncols=2)\n",
        "\n",
        "ax[0] = df1.plot.bar(ax=ax[0])\n",
        "ax[1] = df2.plot.bar(ax=ax[1], color='orange')"
      ],
      "metadata": {
        "colab": {
          "base_uri": "https://localhost:8080/",
          "height": 477
        },
        "id": "1BIF0uT84bKN",
        "outputId": "56e6352a-54e9-41f0-e2fe-639c0fac3655"
      },
      "execution_count": null,
      "outputs": [
        {
          "output_type": "display_data",
          "data": {
            "text/plain": [
              "<Figure size 640x480 with 2 Axes>"
            ],
            "image/png": "[encoded data removed]"
          },
          "metadata": {}
        }
      ]
    },
    {
      "cell_type": "markdown",
      "source": [
        "**Задача 5**\n",
        "\n",
        "Соберите все 3 функции в одной ячейке ниже. Проанализируйте получшившийся код. Сделайте ревью!\n",
        "\n",
        "Попробуйте сделать **рефакторинг**: найти повторы в коде, избыточные конструкции и заменить их на более простые и питоничные решения. Рефакторинг ускоряет выполнение кода и упрощает его чтение.\n",
        "\n",
        "Улучшите код, добавьте строчки для вывода промежуточных и итоговых результатов; запустите ячейку.\n",
        "\n",
        "Это творческое задание, правильных решений нет - главное, чтобы код работал! :)\n",
        "\n",
        "Не забудьте закомментировать свои изменения."
      ],
      "metadata": {
        "id": "Y2SS-kAkcZcW"
      }
    },
    {
      "cell_type": "code",
      "source": [
        "def scrape_text_from_url(url, tag, class_=None):\n",
        "    import requests\n",
        "    from bs4 import BeautifulSoup\n",
        "\n",
        "    try:\n",
        "        response = requests.get(url)# Выполняем HTML-запрос\n",
        "        if response.status_code == 200: # Если запрос успешный (возвращаем значение 200)\n",
        "            soup = BeautifulSoup(response.text, 'html.parser') # парсим контент или текст с помощью BeautifulSoup html.parser\n",
        "\n",
        "            paragraphs = soup.find_all(tag, class_=class_) # Ищем теги и классы на основании аргументов функции\n",
        "\n",
        "            text = \"\" # Создаем переменную text для накопления текста\n",
        "            # Перебираем элементы paragraphs и извлекаем текстовые данные\n",
        "            for p in paragraphs:\n",
        "                text += p.get_text() + \"\\n\"\n",
        "\n",
        "            return text\n",
        "        else:\n",
        "            # Иначе выводим статус-код и сообщение об ошибке\n",
        "            return f\"Ошибка: не удалось получить доступ к странице. Статус-код: {response.status_code}\"\n",
        "    except Exception as e:\n",
        "        # Обрабатываем возможные ошибки\n",
        "        return f\"Произошла ошибка: {str(e)}\"\n",
        "\n",
        "nlp = spacy.load(\"en_core_web_sm\")\n",
        "\n",
        "def analyze_sentiment (text, positive_words, negative_words):\n",
        "    doc = nlp(text.lower()) #обработка текста через spacy\n",
        "    words = [token.text for token in doc if not token.is_stop and not token.is_punct] # Извлечение токенов без стоп-слов и знаков препинания\n",
        "\n",
        "    # Считаем скор тональности: количество пересечений между списками words и положительными / отрицательными словами\n",
        "    positive_count = sum(1 for word in words if word in positive_words)\n",
        "    negative_count = sum(1 for word in words if word in negative_words)\n",
        "\n",
        "# Определение тональности\n",
        "    if positive_count > negative_count:\n",
        "        return 'positive'\n",
        "    elif negative_count > positive_count:\n",
        "        return 'negative'\n",
        "    else:\n",
        "        return 'neutral'\n",
        "\n",
        "\n",
        "def analyze(positive_words, negative_words, url, tag, class_=None):\n",
        "  # примените функцию scrape_text_from_url\n",
        "    scraped_text = scrape_text_from_url(url, tag, class_)\n",
        "\n",
        "    # сегментируйте текст по предложениям (чеорез точку)\n",
        "    doc = nlp(scraped_text)\n",
        "    sentences = [sent.text for sent in doc.sents]\n",
        "\n",
        "    # создаем пустой список, куда запишем скоры\n",
        "    sentiments = []\n",
        "\n",
        "    # начинаем перебор по предложениям\n",
        "    for sentence in sentences:\n",
        "      # получаем скор для данного предложения с помощью функции analyze_sentiment\n",
        "        score = analyze_sentiment(sentence, positive_words, negative_words)\n",
        "      # добавляем скор в созданный список\n",
        "        sentiments.append(score)\n",
        "\n",
        "    # Возвращаем список скоров\n",
        "    return sentiments\n"
      ],
      "metadata": {
        "id": "mU0kfLfvbq0-"
      },
      "execution_count": null,
      "outputs": []
    },
    {
      "cell_type": "code",
      "source": [
        "# Импортируем нужные библиотеки\n",
        "import requests\n",
        "from bs4 import BeautifulSoup\n",
        "import spacy\n",
        "# Загружаем модель spaCy\n",
        "nlp = spacy.load(\"en_core_web_sm\")\n",
        "\n",
        "def scrape_text_from_url(url, tag, class_=None):\n",
        "    try:\n",
        "        response = requests.get(url)# Выполняем HTML-запрос\n",
        "        if response.status_code == 200: # Если запрос успешный (возвращаем значение 200)\n",
        "            soup = BeautifulSoup(response.text, 'html.parser') # парсим контент или текст с помощью BeautifulSoup html.parser\n",
        "\n",
        "            paragraphs = soup.find_all(tag, class_=class_) # Ищем теги и классы на основании аргументов функции\n",
        "\n",
        "            text = \"\" # Создаем переменную text для накопления текста\n",
        "            # Перебираем элементы paragraphs и извлекаем текстовые данные\n",
        "            for p in paragraphs:\n",
        "                text += p.get_text() + \"\\n\"\n",
        "\n",
        "            return text\n",
        "        else:\n",
        "            # Иначе выводим статус-код и сообщение об ошибке\n",
        "            return f\"Ошибка: не удалось получить доступ к странице. Статус-код: {response.status_code}\"\n",
        "    except Exception as e:\n",
        "        # Обрабатываем возможные ошибки\n",
        "        return f\"Произошла ошибка: {str(e)}\"\n",
        "\n",
        "def analyze_sentiment(text, positive_words, negative_words):\n",
        "    \"\"\"\n",
        "    Анализ тональности текста на основе списков положительных и отрицательных слов.\n",
        "    \"\"\"\n",
        "    doc = nlp(text.lower())\n",
        "    words = [token.lemma_ for token in doc if not token.is_stop and not token.is_punct]\n",
        "\n",
        "    positive_count = sum(word in positive_words for word in words)\n",
        "    negative_count = sum(word in negative_words for word in words)\n",
        "\n",
        "    if positive_count > negative_count:\n",
        "        return 'positive'\n",
        "    elif negative_count > positive_count:\n",
        "        return 'negative'\n",
        "    else:\n",
        "        return 'neutral'\n",
        "\n",
        "def analyze(positive_words, negative_words, url, tag, class_=None):\n",
        "    \"\"\"\n",
        "    Выполняет анализ тональности текста по URL.\n",
        "    \"\"\"\n",
        "    scraped_text = scrape_text_from_url(url, tag, class_)\n",
        "    if \"Ошибка\" in scraped_text: # # Если в тексте содержится сообщение об ошибке (Ошибка: не удалось получить доступ к странице), возвращаем его\n",
        "        return [scraped_text]\n",
        "\n",
        "    doc = nlp(scraped_text)\n",
        "    sentences = [sent.text for sent in doc.sents]   # Сегментируем текст на предложения и сохраняем их в список\n",
        "\n",
        "    sentiments = [analyze_sentiment(sentence, positive_words, negative_words) for sentence in sentences]  # Для каждого предложения вычисляем его тональность с использованием функции analyze_sentiment\n",
        "    return sentiments\n"
      ],
      "metadata": {
        "id": "Q-52OIM5ys7L"
      },
      "execution_count": null,
      "outputs": []
    }
  ]
}